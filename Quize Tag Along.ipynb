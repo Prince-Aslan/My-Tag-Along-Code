{
 "cells": [
  {
   "cell_type": "markdown",
   "id": "57894259-533a-4b3d-b18b-ee08b496a568",
   "metadata": {},
   "source": [
    "                                             -----  MY TAG ALONG CODE   ------"
   ]
  },
  {
   "cell_type": "code",
   "execution_count": 1,
   "id": "c511bfe8-bfcb-444f-a3fc-28bc60a9003f",
   "metadata": {},
   "outputs": [],
   "source": [
    "# importing my dependencies\n",
    "import pandas as pd\n",
    "import numpy as np\n",
    "import matplotlib.pyplot as plt\n",
    "import seaborn as sns"
   ]
  },
  {
   "cell_type": "code",
   "execution_count": 2,
   "id": "001907f7-d6c1-4c5c-bb04-598f2bf0fd77",
   "metadata": {},
   "outputs": [],
   "source": [
    "data = pd.read_csv(\"FoodBalanceSheets_E_Africa_NOFLAG.csv\", encoding = \"latin-1\")"
   ]
  },
  {
   "cell_type": "markdown",
   "id": "47e9a072-bfc7-427c-95c3-489ec10ca433",
   "metadata": {},
   "source": [
    "                                            --- UNDERSTANDING THE DATA AND PERFORMNG EDA ---"
   ]
  },
  {
   "cell_type": "code",
   "execution_count": 3,
   "id": "9a8e82dd-4895-4a43-9be3-921388a10db2",
   "metadata": {},
   "outputs": [
    {
     "data": {
      "text/html": [
       "<div>\n",
       "<style scoped>\n",
       "    .dataframe tbody tr th:only-of-type {\n",
       "        vertical-align: middle;\n",
       "    }\n",
       "\n",
       "    .dataframe tbody tr th {\n",
       "        vertical-align: top;\n",
       "    }\n",
       "\n",
       "    .dataframe thead th {\n",
       "        text-align: right;\n",
       "    }\n",
       "</style>\n",
       "<table border=\"1\" class=\"dataframe\">\n",
       "  <thead>\n",
       "    <tr style=\"text-align: right;\">\n",
       "      <th></th>\n",
       "      <th>Area Code</th>\n",
       "      <th>Area</th>\n",
       "      <th>Item Code</th>\n",
       "      <th>Item</th>\n",
       "      <th>Element Code</th>\n",
       "      <th>Element</th>\n",
       "      <th>Unit</th>\n",
       "      <th>Y2014</th>\n",
       "      <th>Y2015</th>\n",
       "      <th>Y2016</th>\n",
       "      <th>Y2017</th>\n",
       "      <th>Y2018</th>\n",
       "    </tr>\n",
       "  </thead>\n",
       "  <tbody>\n",
       "    <tr>\n",
       "      <th>0</th>\n",
       "      <td>4</td>\n",
       "      <td>Algeria</td>\n",
       "      <td>2501</td>\n",
       "      <td>Population</td>\n",
       "      <td>511</td>\n",
       "      <td>Total Population - Both sexes</td>\n",
       "      <td>1000 persons</td>\n",
       "      <td>38924.00</td>\n",
       "      <td>39728.00</td>\n",
       "      <td>40551.00</td>\n",
       "      <td>41389.00</td>\n",
       "      <td>42228.00</td>\n",
       "    </tr>\n",
       "    <tr>\n",
       "      <th>1</th>\n",
       "      <td>4</td>\n",
       "      <td>Algeria</td>\n",
       "      <td>2501</td>\n",
       "      <td>Population</td>\n",
       "      <td>5301</td>\n",
       "      <td>Domestic supply quantity</td>\n",
       "      <td>1000 tonnes</td>\n",
       "      <td>0.00</td>\n",
       "      <td>0.00</td>\n",
       "      <td>0.00</td>\n",
       "      <td>0.00</td>\n",
       "      <td>0.00</td>\n",
       "    </tr>\n",
       "    <tr>\n",
       "      <th>2</th>\n",
       "      <td>4</td>\n",
       "      <td>Algeria</td>\n",
       "      <td>2901</td>\n",
       "      <td>Grand Total</td>\n",
       "      <td>664</td>\n",
       "      <td>Food supply (kcal/capita/day)</td>\n",
       "      <td>kcal/capita/day</td>\n",
       "      <td>3377.00</td>\n",
       "      <td>3379.00</td>\n",
       "      <td>3372.00</td>\n",
       "      <td>3341.00</td>\n",
       "      <td>3322.00</td>\n",
       "    </tr>\n",
       "    <tr>\n",
       "      <th>3</th>\n",
       "      <td>4</td>\n",
       "      <td>Algeria</td>\n",
       "      <td>2901</td>\n",
       "      <td>Grand Total</td>\n",
       "      <td>674</td>\n",
       "      <td>Protein supply quantity (g/capita/day)</td>\n",
       "      <td>g/capita/day</td>\n",
       "      <td>94.90</td>\n",
       "      <td>94.35</td>\n",
       "      <td>94.72</td>\n",
       "      <td>92.82</td>\n",
       "      <td>91.83</td>\n",
       "    </tr>\n",
       "    <tr>\n",
       "      <th>4</th>\n",
       "      <td>4</td>\n",
       "      <td>Algeria</td>\n",
       "      <td>2901</td>\n",
       "      <td>Grand Total</td>\n",
       "      <td>684</td>\n",
       "      <td>Fat supply quantity (g/capita/day)</td>\n",
       "      <td>g/capita/day</td>\n",
       "      <td>80.06</td>\n",
       "      <td>79.36</td>\n",
       "      <td>77.40</td>\n",
       "      <td>80.19</td>\n",
       "      <td>77.28</td>\n",
       "    </tr>\n",
       "  </tbody>\n",
       "</table>\n",
       "</div>"
      ],
      "text/plain": [
       "   Area Code     Area  Item Code         Item  Element Code  \\\n",
       "0          4  Algeria       2501   Population           511   \n",
       "1          4  Algeria       2501   Population          5301   \n",
       "2          4  Algeria       2901  Grand Total           664   \n",
       "3          4  Algeria       2901  Grand Total           674   \n",
       "4          4  Algeria       2901  Grand Total           684   \n",
       "\n",
       "                                  Element             Unit     Y2014  \\\n",
       "0           Total Population - Both sexes     1000 persons  38924.00   \n",
       "1                Domestic supply quantity      1000 tonnes      0.00   \n",
       "2           Food supply (kcal/capita/day)  kcal/capita/day   3377.00   \n",
       "3  Protein supply quantity (g/capita/day)     g/capita/day     94.90   \n",
       "4      Fat supply quantity (g/capita/day)     g/capita/day     80.06   \n",
       "\n",
       "      Y2015     Y2016     Y2017     Y2018  \n",
       "0  39728.00  40551.00  41389.00  42228.00  \n",
       "1      0.00      0.00      0.00      0.00  \n",
       "2   3379.00   3372.00   3341.00   3322.00  \n",
       "3     94.35     94.72     92.82     91.83  \n",
       "4     79.36     77.40     80.19     77.28  "
      ]
     },
     "execution_count": 3,
     "metadata": {},
     "output_type": "execute_result"
    }
   ],
   "source": [
    "data.head()"
   ]
  },
  {
   "cell_type": "code",
   "execution_count": 4,
   "id": "1bb4df0d-1e34-4634-b3a4-794184567fc1",
   "metadata": {},
   "outputs": [
    {
     "data": {
      "text/html": [
       "<div>\n",
       "<style scoped>\n",
       "    .dataframe tbody tr th:only-of-type {\n",
       "        vertical-align: middle;\n",
       "    }\n",
       "\n",
       "    .dataframe tbody tr th {\n",
       "        vertical-align: top;\n",
       "    }\n",
       "\n",
       "    .dataframe thead th {\n",
       "        text-align: right;\n",
       "    }\n",
       "</style>\n",
       "<table border=\"1\" class=\"dataframe\">\n",
       "  <thead>\n",
       "    <tr style=\"text-align: right;\">\n",
       "      <th></th>\n",
       "      <th>Area Code</th>\n",
       "      <th>Item Code</th>\n",
       "      <th>Element Code</th>\n",
       "      <th>Y2014</th>\n",
       "      <th>Y2015</th>\n",
       "      <th>Y2016</th>\n",
       "      <th>Y2017</th>\n",
       "      <th>Y2018</th>\n",
       "    </tr>\n",
       "  </thead>\n",
       "  <tbody>\n",
       "    <tr>\n",
       "      <th>count</th>\n",
       "      <td>60943.000000</td>\n",
       "      <td>60943.000000</td>\n",
       "      <td>60943.000000</td>\n",
       "      <td>59354.000000</td>\n",
       "      <td>59395.000000</td>\n",
       "      <td>59408.000000</td>\n",
       "      <td>59437.000000</td>\n",
       "      <td>59507.000000</td>\n",
       "    </tr>\n",
       "    <tr>\n",
       "      <th>mean</th>\n",
       "      <td>134.265576</td>\n",
       "      <td>2687.176706</td>\n",
       "      <td>3814.856456</td>\n",
       "      <td>134.196282</td>\n",
       "      <td>135.235966</td>\n",
       "      <td>136.555222</td>\n",
       "      <td>140.917765</td>\n",
       "      <td>143.758381</td>\n",
       "    </tr>\n",
       "    <tr>\n",
       "      <th>std</th>\n",
       "      <td>72.605709</td>\n",
       "      <td>146.055739</td>\n",
       "      <td>2212.007033</td>\n",
       "      <td>1567.663696</td>\n",
       "      <td>1603.403984</td>\n",
       "      <td>1640.007194</td>\n",
       "      <td>1671.862359</td>\n",
       "      <td>1710.782658</td>\n",
       "    </tr>\n",
       "    <tr>\n",
       "      <th>min</th>\n",
       "      <td>4.000000</td>\n",
       "      <td>2501.000000</td>\n",
       "      <td>511.000000</td>\n",
       "      <td>-1796.000000</td>\n",
       "      <td>-3161.000000</td>\n",
       "      <td>-3225.000000</td>\n",
       "      <td>-1582.000000</td>\n",
       "      <td>-3396.000000</td>\n",
       "    </tr>\n",
       "    <tr>\n",
       "      <th>25%</th>\n",
       "      <td>74.000000</td>\n",
       "      <td>2562.000000</td>\n",
       "      <td>684.000000</td>\n",
       "      <td>0.000000</td>\n",
       "      <td>0.000000</td>\n",
       "      <td>0.000000</td>\n",
       "      <td>0.000000</td>\n",
       "      <td>0.000000</td>\n",
       "    </tr>\n",
       "    <tr>\n",
       "      <th>50%</th>\n",
       "      <td>136.000000</td>\n",
       "      <td>2630.000000</td>\n",
       "      <td>5142.000000</td>\n",
       "      <td>0.090000</td>\n",
       "      <td>0.080000</td>\n",
       "      <td>0.080000</td>\n",
       "      <td>0.100000</td>\n",
       "      <td>0.070000</td>\n",
       "    </tr>\n",
       "    <tr>\n",
       "      <th>75%</th>\n",
       "      <td>195.000000</td>\n",
       "      <td>2775.000000</td>\n",
       "      <td>5511.000000</td>\n",
       "      <td>8.340000</td>\n",
       "      <td>8.460000</td>\n",
       "      <td>8.430000</td>\n",
       "      <td>9.000000</td>\n",
       "      <td>9.000000</td>\n",
       "    </tr>\n",
       "    <tr>\n",
       "      <th>max</th>\n",
       "      <td>276.000000</td>\n",
       "      <td>2961.000000</td>\n",
       "      <td>5911.000000</td>\n",
       "      <td>176405.000000</td>\n",
       "      <td>181137.000000</td>\n",
       "      <td>185960.000000</td>\n",
       "      <td>190873.000000</td>\n",
       "      <td>195875.000000</td>\n",
       "    </tr>\n",
       "  </tbody>\n",
       "</table>\n",
       "</div>"
      ],
      "text/plain": [
       "          Area Code     Item Code  Element Code          Y2014          Y2015  \\\n",
       "count  60943.000000  60943.000000  60943.000000   59354.000000   59395.000000   \n",
       "mean     134.265576   2687.176706   3814.856456     134.196282     135.235966   \n",
       "std       72.605709    146.055739   2212.007033    1567.663696    1603.403984   \n",
       "min        4.000000   2501.000000    511.000000   -1796.000000   -3161.000000   \n",
       "25%       74.000000   2562.000000    684.000000       0.000000       0.000000   \n",
       "50%      136.000000   2630.000000   5142.000000       0.090000       0.080000   \n",
       "75%      195.000000   2775.000000   5511.000000       8.340000       8.460000   \n",
       "max      276.000000   2961.000000   5911.000000  176405.000000  181137.000000   \n",
       "\n",
       "               Y2016          Y2017          Y2018  \n",
       "count   59408.000000   59437.000000   59507.000000  \n",
       "mean      136.555222     140.917765     143.758381  \n",
       "std      1640.007194    1671.862359    1710.782658  \n",
       "min     -3225.000000   -1582.000000   -3396.000000  \n",
       "25%         0.000000       0.000000       0.000000  \n",
       "50%         0.080000       0.100000       0.070000  \n",
       "75%         8.430000       9.000000       9.000000  \n",
       "max    185960.000000  190873.000000  195875.000000  "
      ]
     },
     "execution_count": 4,
     "metadata": {},
     "output_type": "execute_result"
    }
   ],
   "source": [
    "data.describe()"
   ]
  },
  {
   "cell_type": "code",
   "execution_count": 5,
   "id": "b48f927d-4744-413a-99d3-de4ea3357bf1",
   "metadata": {},
   "outputs": [
    {
     "data": {
      "text/plain": [
       "(60943, 12)"
      ]
     },
     "execution_count": 5,
     "metadata": {},
     "output_type": "execute_result"
    }
   ],
   "source": [
    "data.shape"
   ]
  },
  {
   "cell_type": "code",
   "execution_count": 6,
   "id": "b9ba7071-7b3a-4a9e-aacf-cb962b5cdae3",
   "metadata": {},
   "outputs": [
    {
     "name": "stdout",
     "output_type": "stream",
     "text": [
      "<class 'pandas.core.frame.DataFrame'>\n",
      "RangeIndex: 60943 entries, 0 to 60942\n",
      "Data columns (total 12 columns):\n",
      " #   Column        Non-Null Count  Dtype  \n",
      "---  ------        --------------  -----  \n",
      " 0   Area Code     60943 non-null  int64  \n",
      " 1   Area          60943 non-null  object \n",
      " 2   Item Code     60943 non-null  int64  \n",
      " 3   Item          60943 non-null  object \n",
      " 4   Element Code  60943 non-null  int64  \n",
      " 5   Element       60943 non-null  object \n",
      " 6   Unit          60943 non-null  object \n",
      " 7   Y2014         59354 non-null  float64\n",
      " 8   Y2015         59395 non-null  float64\n",
      " 9   Y2016         59408 non-null  float64\n",
      " 10  Y2017         59437 non-null  float64\n",
      " 11  Y2018         59507 non-null  float64\n",
      "dtypes: float64(5), int64(3), object(4)\n",
      "memory usage: 5.6+ MB\n"
     ]
    }
   ],
   "source": [
    "data.info()"
   ]
  },
  {
   "cell_type": "code",
   "execution_count": 7,
   "id": "f0dc7d74-3497-4b3e-ab6f-1390910907b2",
   "metadata": {},
   "outputs": [
    {
     "data": {
      "text/plain": [
       "Area Code          0\n",
       "Area               0\n",
       "Item Code          0\n",
       "Item               0\n",
       "Element Code       0\n",
       "Element            0\n",
       "Unit               0\n",
       "Y2014           1589\n",
       "Y2015           1548\n",
       "Y2016           1535\n",
       "Y2017           1506\n",
       "Y2018           1436\n",
       "dtype: int64"
      ]
     },
     "execution_count": 7,
     "metadata": {},
     "output_type": "execute_result"
    }
   ],
   "source": [
    "# Check for missing values in each column\n",
    "data.isna().sum()"
   ]
  },
  {
   "cell_type": "code",
   "execution_count": 8,
   "id": "9dbe56f9-a378-4e68-8171-97557d3067ee",
   "metadata": {},
   "outputs": [
    {
     "name": "stdout",
     "output_type": "stream",
     "text": [
      "Area Code       False\n",
      "Area            False\n",
      "Item Code       False\n",
      "Item            False\n",
      "Element Code    False\n",
      "Element         False\n",
      "Unit            False\n",
      "Y2014            True\n",
      "Y2015            True\n",
      "Y2016            True\n",
      "Y2017            True\n",
      "Y2018            True\n",
      "dtype: bool\n"
     ]
    }
   ],
   "source": [
    "# Check for missing values in each column\n",
    "missing_in_columns = data.isna().any()\n",
    "print(missing_in_columns)"
   ]
  },
  {
   "cell_type": "markdown",
   "id": "f0050e30-8bdb-4b9b-834f-61a06788439f",
   "metadata": {},
   "source": [
    "                                    -----   TAG ALONG CODE BEGINS FROM HERE -----\n",
    "                                                ---- QUIZ ANSWERS ----"
   ]
  },
  {
   "cell_type": "code",
   "execution_count": 9,
   "id": "b75397b3-67c9-44f0-9541-8a063fab3f14",
   "metadata": {},
   "outputs": [
    {
     "ename": "TypeError",
     "evalue": "'tuple' object does not support item assignment",
     "output_type": "error",
     "traceback": [
      "\u001b[1;31m---------------------------------------------------------------------------\u001b[0m",
      "\u001b[1;31mTypeError\u001b[0m                                 Traceback (most recent call last)",
      "Cell \u001b[1;32mIn[9], line 2\u001b[0m\n\u001b[0;32m      1\u001b[0m my_tuppy \u001b[38;5;241m=\u001b[39m (\u001b[38;5;241m1\u001b[39m,\u001b[38;5;241m2\u001b[39m,\u001b[38;5;241m5\u001b[39m,\u001b[38;5;241m8\u001b[39m)\n\u001b[1;32m----> 2\u001b[0m \u001b[43mmy_tuppy\u001b[49m\u001b[43m[\u001b[49m\u001b[38;5;241;43m2\u001b[39;49m\u001b[43m]\u001b[49m \u001b[38;5;241m=\u001b[39m \u001b[38;5;241m6\u001b[39m\n",
      "\u001b[1;31mTypeError\u001b[0m: 'tuple' object does not support item assignment"
     ]
    }
   ],
   "source": [
    "my_tuppy = (1,2,5,8)\n",
    "my_tuppy[2] = 6"
   ]
  },
  {
   "cell_type": "code",
   "execution_count": 10,
   "id": "85a5c3d1-1045-4ba7-b6bc-af59b8dc1527",
   "metadata": {},
   "outputs": [
    {
     "name": "stdout",
     "output_type": "stream",
     "text": [
      "8\n"
     ]
    }
   ],
   "source": [
    "y = [(2, 4), (7, 8), (1, 5, 9)]\n",
    "x = y[1][1]\n",
    "print(x)"
   ]
  },
  {
   "cell_type": "code",
   "execution_count": 11,
   "id": "905c702b-6021-4e77-a61a-418c63fc0060",
   "metadata": {},
   "outputs": [
    {
     "name": "stdout",
     "output_type": "stream",
     "text": [
      "Area with the highest sum in 2017: Nigeria\n"
     ]
    }
   ],
   "source": [
    "# Performing a groupby operation on 'Area' and aggregating the sum of 'Y2017'\n",
    "sum_by_area = data.groupby('Area').sum()['Y2017']\n",
    "\n",
    "# Finding the area with the highest sum in 2017\n",
    "area_with_highest_sum = sum_by_area.idxmax()\n",
    "\n",
    "#print result\n",
    "print(\"Area with the highest sum in 2017:\", area_with_highest_sum)"
   ]
  },
  {
   "cell_type": "code",
   "execution_count": 12,
   "id": "45030375-ccb2-4cf7-93cb-360160b021a0",
   "metadata": {},
   "outputs": [
    {
     "name": "stdout",
     "output_type": "stream",
     "text": [
      "4251.81\n",
      "4039.32\n"
     ]
    }
   ],
   "source": [
    "# Aggregate the sum of 'Wine' for 2015 and 2018\n",
    "wine_production_sum = data.groupby('Item').agg({'Y2015': 'sum', 'Y2018': 'sum'})  \n",
    "\n",
    "# The total sum of wine produced in 2015 and 2018 respectively\n",
    "wine_production_2015 = wine_production_sum.loc['Wine', 'Y2015']\n",
    "wine_production_2018 = wine_production_sum.loc['Wine', 'Y2018']\n",
    "\n",
    "#print result\n",
    "print(wine_production_2015)\n",
    "print(wine_production_2018)"
   ]
  },
  {
   "cell_type": "code",
   "execution_count": 13,
   "id": "0951f9f3-fa56-4e9d-a8f0-bb231d2a9b69",
   "metadata": {},
   "outputs": [
    {
     "name": "stdout",
     "output_type": "stream",
     "text": [
      "Y2016\n",
      "0.02344399758496104\n"
     ]
    }
   ],
   "source": [
    "# Select the 'Element Code' and year columns\n",
    "correlation_data = data[['Element Code'] + [col for col in data if col.startswith('Y')]]  \n",
    "\n",
    "# Calculate the correlation matrix\n",
    "correlation_matrix = correlation_data.corr()  \n",
    "\n",
    "# Since we're only interested in the correlation of 'Element Code' with years,\n",
    "# we'll drop the correlation of 'Element Code' with itself\n",
    "correlation_matrix.drop('Element Code', inplace=True)\n",
    "\n",
    "# Find the year with the least correlation with 'Element Code'\n",
    "least_correlation_year = correlation_matrix['Element Code'].idxmin()\n",
    "least_correlation_value = correlation_matrix['Element Code'][least_correlation_year]\n",
    "\n",
    "#print results\n",
    "print(least_correlation_year)\n",
    "print(least_correlation_value)"
   ]
  },
  {
   "cell_type": "code",
   "execution_count": 14,
   "id": "5887946c-2745-4bc9-ba94-52af60f7a44c",
   "metadata": {},
   "outputs": [
    {
     "name": "stdout",
     "output_type": "stream",
     "text": [
      "[[89 63]\n",
      " [92 48]]\n"
     ]
    }
   ],
   "source": [
    "array = np.array([[94, 89, 63],\n",
    "                  [93, 92, 48],\n",
    "                  [92, 94, 56]])\n",
    "print(array[:2, 1:])"
   ]
  },
  {
   "cell_type": "code",
   "execution_count": 15,
   "id": "1e4d7bda-352e-4cfe-8423-08cac287e8df",
   "metadata": {},
   "outputs": [
    {
     "data": {
      "text/plain": [
       "(140.92, 1671.86)"
      ]
     },
     "execution_count": 15,
     "metadata": {},
     "output_type": "execute_result"
    }
   ],
   "source": [
    "# Calculate the mean and standard deviation for the year 2017 across the whole dataset\n",
    "mean_2017 = data['Y2017'].mean()\n",
    "std_dev_2017 = data['Y2017'].std()\n",
    "\n",
    "# Format the results to 2 decimal places\n",
    "mean_2017_rounded = round(mean_2017, 2)\n",
    "std_dev_2017_rounded = round(std_dev_2017, 2)\n",
    "\n",
    "#print results\n",
    "mean_2017_rounded, std_dev_2017_rounded\n"
   ]
  },
  {
   "cell_type": "code",
   "execution_count": 16,
   "id": "0028764b-1a14-4361-84ca-4d9873feb58a",
   "metadata": {},
   "outputs": [
    {
     "data": {
      "text/plain": [
       "('Guinea-Bissau', 19102.77)"
      ]
     },
     "execution_count": 16,
     "metadata": {},
     "output_type": "execute_result"
    }
   ],
   "source": [
    "# Selecting the columns 'Y2017' and 'Area' and performing a groupby operation on 'Area'\n",
    "grouped_area_2017 = data[['Y2017', 'Area']].groupby('Area').sum()\n",
    "\n",
    "# Sorting the groups by the sum of 'Y2017' to find the 7th lowest value\n",
    "sorted_areas_2017 = grouped_area_2017.sort_values(by='Y2017', ascending=True)\n",
    "\n",
    "# Getting the 7th lowest sum in 2017 by Area\n",
    "seventh_lowest_area = sorted_areas_2017.iloc[6]\n",
    "\n",
    "# Output the Area name and its sum in 2017\n",
    "seventh_lowest_area_name = seventh_lowest_area.name\n",
    "seventh_lowest_sum = seventh_lowest_area['Y2017']\n",
    "\n",
    "#print results\n",
    "seventh_lowest_area_name, seventh_lowest_sum"
   ]
  },
  {
   "cell_type": "code",
   "execution_count": 17,
   "id": "527647f6-4ad9-470a-bb69-8dce362b8778",
   "metadata": {},
   "outputs": [
    {
     "data": {
      "text/plain": [
       "(1589, 2.607)"
      ]
     },
     "execution_count": 17,
     "metadata": {},
     "output_type": "execute_result"
    }
   ],
   "source": [
    "# Calculate the total number of missing values in the 'Y2014' column\n",
    "missing_count_2014 = data['Y2014'].isnull().sum()\n",
    "\n",
    "# Calculate the percentage of missing values in the 'Y2014' column\n",
    "total_rows = data['Y2014'].shape[0]\n",
    "missing_percentage_2014 = (missing_count_2014 / total_rows) * 100\n",
    "\n",
    "# Format the results to 3 decimal places\n",
    "missing_percentage_2014_formatted = round(missing_percentage_2014, 3)\n",
    "\n",
    "#print result\n",
    "missing_count_2014, missing_percentage_2014_formatted"
   ]
  },
  {
   "cell_type": "code",
   "execution_count": 18,
   "id": "b9fa710c-8886-46a9-a07d-2dd1296bba9c",
   "metadata": {},
   "outputs": [
    {
     "name": "stdout",
     "output_type": "stream",
     "text": [
      "Total: 173.04999999999998\n",
      "Rounded: 173.05\n"
     ]
    }
   ],
   "source": [
    "# Filter the data for Madagascar in 2015 and for the 'Protein supply quantity (g/capita/day)' element\n",
    "madagascar_protein = data[(data['Area'] == 'Madagascar') & (data['Element'] == 'Protein supply quantity (g/capita/day)')]\n",
    "\n",
    "# Sum the values in the 'Y2015' column to get the total protein supply quantity\n",
    "total_protein_madagascar_2015 = madagascar_protein['Y2015'].sum()\n",
    "\n",
    "#print result\n",
    "print('Total:', total_protein_madagascar_2015) \n",
    "print('Rounded:', round(total_protein_madagascar_2015, 2))"
   ]
  },
  {
   "cell_type": "code",
   "execution_count": 19,
   "id": "be97c285-4b78-41ee-84d3-4cdfffe5ad49",
   "metadata": {},
   "outputs": [
    {
     "name": "stdout",
     "output_type": "stream",
     "text": [
      "e\n"
     ]
    }
   ],
   "source": [
    "S = [['him', 'sell'], [90, 28, 43]]\n",
    "print(S[0][1][1])"
   ]
  },
  {
   "cell_type": "code",
   "execution_count": 20,
   "id": "9574f5f5-98f6-424b-9acb-df0da8f4ec10",
   "metadata": {},
   "outputs": [
    {
     "name": "stdout",
     "output_type": "stream",
     "text": [
      "   Age Nationality  Overall\n",
      "0   35    Portugal       94\n",
      "1   33   Argentina       93\n",
      "2   30      Brazil       92\n"
     ]
    }
   ],
   "source": [
    "lst = [[35, 'Portugal', 94], [33, 'Argentina', 93], [30 , 'Brazil', 92]]\n",
    "col = ['Age', 'Nationality', 'Overall']\n",
    "\n",
    "df = pd.DataFrame(lst, columns=col)\n",
    "print(df)"
   ]
  },
  {
   "cell_type": "code",
   "execution_count": 21,
   "id": "de99b9dc-db31-4c4f-9beb-b5f4dd95516d",
   "metadata": {},
   "outputs": [
    {
     "data": {
      "text/plain": [
       "292836.0"
      ]
     },
     "execution_count": 21,
     "metadata": {},
     "output_type": "execute_result"
    }
   ],
   "source": [
    "#Q16 \n",
    "#Perform a groupby operation on ‘Element’.  \n",
    "#What is the total number of the sum of Processing in 2017?\n",
    "element_group_2017 = data.groupby('Element').sum()\n",
    "\n",
    "# Get the total sum for 'Processing' in 2017\n",
    "total_processing_2017 = element_group_2017.loc['Processing', 'Y2017']\n",
    "\n",
    "#print result\n",
    "total_processing_2017"
   ]
  },
  {
   "cell_type": "code",
   "execution_count": 22,
   "id": "c0f3613d-b48a-48a1-a267-5e61fcd62821",
   "metadata": {},
   "outputs": [
    {
     "data": {
      "text/plain": [
       "('Y2014', 58749.83)"
      ]
     },
     "execution_count": 22,
     "metadata": {},
     "output_type": "execute_result"
    }
   ],
   "source": [
    "#17 \n",
    "#Perform a groupby operation on ‘Element’.  \n",
    "#What year has the highest sum of Stock Variation?\n",
    "\n",
    "# Filter out only the year columns from the dataset to ensure proper sum calculations\n",
    "year_columns = [col for col in data.columns if col.startswith('Y')]\n",
    "\n",
    "# Perform the groupby operation again on 'Element', including only year columns this time\n",
    "element_group_yearly = data.groupby('Element')[year_columns].sum()\n",
    "\n",
    "# Select the 'Stock Variation' row and find the year with the highest sum\n",
    "stock_variation_sums = element_group_yearly.loc['Stock Variation']\n",
    "\n",
    "# Finding the index (year) with the maximum value\n",
    "highest_stock_variation_year = stock_variation_sums.idxmax()  \n",
    "\n",
    "#print result\n",
    "highest_stock_variation_year, stock_variation_sums[highest_stock_variation_year]"
   ]
  },
  {
   "cell_type": "code",
   "execution_count": 23,
   "id": "4828ef0e-7918-4a1a-a70b-af301321a627",
   "metadata": {},
   "outputs": [
    {
     "data": {
      "text/plain": [
       "(3, 3)"
      ]
     },
     "execution_count": 23,
     "metadata": {},
     "output_type": "execute_result"
    }
   ],
   "source": [
    "#Q.18\n",
    "df.shape"
   ]
  },
  {
   "cell_type": "code",
   "execution_count": 24,
   "id": "1f281848-928f-49ba-81d1-90da3f52782a",
   "metadata": {},
   "outputs": [
    {
     "data": {
      "text/plain": [
       "49"
      ]
     },
     "execution_count": 24,
     "metadata": {},
     "output_type": "execute_result"
    }
   ],
   "source": [
    "# Using .unique() to find unique countries and then getting the count\n",
    "unique_countries = data['Area'].unique()\n",
    "unique_countries_count = len(unique_countries)\n",
    "\n",
    "#print result\n",
    "unique_countries_count"
   ]
  },
  {
   "cell_type": "markdown",
   "id": "2639c184-1571-4d67-a1f1-f0d354042bea",
   "metadata": {},
   "source": [
    "                                                        ---- THE END ----"
   ]
  }
 ],
 "metadata": {
  "kernelspec": {
   "display_name": "Python 3 (ipykernel)",
   "language": "python",
   "name": "python3"
  },
  "language_info": {
   "codemirror_mode": {
    "name": "ipython",
    "version": 3
   },
   "file_extension": ".py",
   "mimetype": "text/x-python",
   "name": "python",
   "nbconvert_exporter": "python",
   "pygments_lexer": "ipython3",
   "version": "3.12.2"
  }
 },
 "nbformat": 4,
 "nbformat_minor": 5
}
